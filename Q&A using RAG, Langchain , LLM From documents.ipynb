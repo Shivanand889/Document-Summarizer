{
 "cells": [
  {
   "cell_type": "code",
   "execution_count": 1,
   "metadata": {},
   "outputs": [],
   "source": [
    "def warn(*args, **kwargs):\n",
    "    pass\n",
    "import warnings\n",
    "warnings.warn = warn\n",
    "warnings.filterwarnings('ignore')\n",
    "\n",
    "from langchain.document_loaders import TextLoader\n",
    "from langchain.text_splitter import CharacterTextSplitter\n",
    "from langchain.vectorstores import Chroma\n",
    "from langchain.embeddings import HuggingFaceEmbeddings\n",
    "from langchain.chains import RetrievalQA\n",
    "from langchain.prompts import PromptTemplate\n",
    "from langchain.chains import ConversationalRetrievalChain\n",
    "from langchain.memory import ConversationBufferMemory\n",
    "\n",
    "from ibm_watsonx_ai.foundation_models import Model\n",
    "from ibm_watsonx_ai.metanames import GenTextParamsMetaNames as GenParams\n",
    "from ibm_watsonx_ai.foundation_models.utils.enums import ModelTypes, DecodingMethods\n",
    "from ibm_watson_machine_learning.foundation_models.extensions.langchain import WatsonxLLM\n",
    "import wget"
   ]
  },
  {
   "cell_type": "code",
   "execution_count": 2,
   "metadata": {},
   "outputs": [
    {
     "name": "stdout",
     "output_type": "stream",
     "text": [
      "100% [..............................................................................] 15660 / 15660file downloaded\n"
     ]
    }
   ],
   "source": [
    "filename = 'companyPolicies.txt'\n",
    "url = 'https://cf-courses-data.s3.us.cloud-object-storage.appdomain.cloud/6JDbUb_L3egv_eOkouY71A.txt'\n",
    "\n",
    "wget.download(url, out=filename)\n",
    "print('file downloaded')"
   ]
  },
  {
   "cell_type": "markdown",
   "metadata": {},
   "source": [
    "After the file is downloaded and imported into this lab environment, you can use the following code to look at the document.\n"
   ]
  },
  {
   "cell_type": "code",
   "execution_count": 2,
   "metadata": {},
   "outputs": [
    {
     "name": "stdout",
     "output_type": "stream",
     "text": [
      " ABSTRACT\n",
      " Wepresent our experience with QUIC, an encrypted, multiplexed,\n",
      " and low-latency transport protocol designed from the ground up to\n",
      " improve transport performance for HTTPS traffic and to enable rapid\n",
      " deployment and continued evolution of transport mechanisms. QUIC\n",
      " has been globally deployed at Google on thousands of servers and\n",
      " is used to serve traffic to a range of clients including a widely-used\n",
      " web browser (Chrome) and a popular mobile video streaming app\n",
      " (YouTube). We estimate that 7% of Internet traffic is now QUIC. We\n",
      " describe our motivations for developing a new transport, the princi\n",
      "ples that guided our design, the Internet-scale process that we used\n",
      " to perform iterative experiments on QUIC, performance improve\n",
      "ments seen by our various services, and our experience deploying\n",
      " QUIC globally. We also share lessons about transport design and the\n",
      " Internet ecosystem that we learned from our deployment.\n",
      " CCSCONCEPTS\n",
      " â€¢ Networks â†’ Network protocol design; Transport protocols;\n",
      " Cross-layer protocols;\n",
      " ACMReference format:\n",
      " Adam Langley, Alistair Riddoch, Alyssa Wilk, Antonio Vicente, Charles\n",
      " Krasic, Dan Zhang, Fan Yang, Fedor Kouranov, Ian Swett, Janardhan Iyengar,\n",
      " Jeff Bailey, Jeremy Dorfman, Jim Roskind, Joanna Kulik, Patrik Westin,\n",
      " Raman Tenneti, Robbie Shade, Ryan Hamilton, Victor Vasiliev, Wan-Teh\n",
      " Chang, Zhongyi Shi . 2017. The QUIC Transport Protocol: Design and\n",
      " Internet-Scale Deployment. In Proceedings of SIGCOMM â€™17, Los Angeles,\n",
      " CA, USA, August 21-25, 2017, 14 pages.\n",
      " https://doi.org/10.1145/3098822.3098842\n",
      " 1 INTRODUCTION\n",
      " We present QUIC, a new transport designed from the ground up\n",
      " to improve performance for HTTPS traffic and to enable rapid de\n",
      "ployment and continued evolution of transport mechanisms. QUIC\n",
      " replaces most of the traditional HTTPS stack: HTTP/2, TLS, and\n",
      " *Fedor Kouranov is now at Yandex, and Jim Roskind is now at Amazon. Author names\n",
      " are in alphabetical order.\n",
      " Permission to make digital or hard copies of part or all of this work for personal or\n",
      " classroom use is granted without fee provided that copies are not made or distributed\n",
      " for profit or commercial advantage and that copies bear this notice and the full citation\n",
      " on the first page. Copyrights for third-party components of this work must be honored.\n",
      " For all other uses, contact the owner/author(s).\n",
      " SIGCOMMâ€™17, August 21-25, 2017, Los Angeles, CA, USA\n",
      " Â©2017 Copyright held by the owner/author(s).\n",
      " ACMISBN978-1-4503-4653-5/17/08.\n",
      " https://doi.org/10.1145/3098822.3098842\n",
      " Figure 1: QUIC in the traditional HTTPS stack.\n",
      " TCP (Figure 1). We developed QUIC as a user-space transport with\n",
      " UDP as a substrate. Building QUIC in user-space facilitated its\n",
      " deployment as part of various applications and enabled iterative\n",
      " changes to occur at application update timescales. The use of UDP\n",
      " allows QUIC packets to traverse middleboxes. QUIC is an encrypted\n",
      " transport: packets are authenticated and encrypted, preventing mod\n",
      "ification and limiting ossification of the protocol by middleboxes.\n",
      " QUIC uses a cryptographic handshake that minimizes handshake\n",
      " latency for most connections by using known server credentials on\n",
      " repeat connections and by removing redundant handshake-overhead\n",
      " at multiple layers in the network stack. QUIC eliminates head-of-line\n",
      " blocking delays by using a lightweight data-structuring abstraction,\n",
      " streams, which are multiplexed within a single connection so that\n",
      " loss of a single packet blocks only streams with data in that packet.\n",
      " On the server-side, our experience comes from deploying QUIC\n",
      " at Googleâ€™s front-end servers, which collectively handle billions of\n",
      " requests a day from web browsers and mobile apps across a wide\n",
      " range of services. On the client side, we have deployed QUIC in\n",
      " Chrome, in our mobile video streaming YouTube app, and in the\n",
      " Google Search app on Android. We find that on average, QUIC re\n",
      "duces latency of Google Search responses by 8.0% for desktop users\n",
      " and by 3.6% for mobile users, and reduces rebuffer rates of YouTube\n",
      " playbacks by 18.0% for desktop users and 15.3% for mobile users1.\n",
      " As shown in Figure 2, QUIC is widely deployed: it currently ac\n",
      "counts for over 30% of Googleâ€™s total egress traffic in bytes and\n",
      " consequently an estimated 7% of global Internet traffic [61].\n",
      " Welaunched an early version of QUIC as an experiment in 2013.\n",
      " After several iterations with the protocol and following our de\n",
      "ployment experience over three years, an IETF working group was\n",
      " formed to standardize it [2]. QUIC is a single monolithic protocol in\n",
      " 1Throughout this paper \"desktop\" refers to Chrome running on desktop platforms\n",
      " (Windows, Mac, Linux, etc.) and \"mobile\" refers to apps running on Android devices.\n",
      " 183\n",
      "SIGCOMMâ€™17, August 21-25, 2017, Los Angeles, CA, USA\n",
      " A. Langley et al.\n",
      " Figure 2: Timeline showing the percentage of Google traffic served over\n",
      " QUIC. Significant increases and decreases are described in Section 5.1.\n",
      " Figure 3: Increase in secure web traffic to Googleâ€™s front-end servers.\n",
      " our current deployment, but IETF standardization will modularize\n",
      " it into constituent parts. In addition to separating out and specify\n",
      "ing the core protocol [33, 34], IETF work will describe an explicit\n",
      " mapping of HTTP on QUIC [9] and separate and replace QUICâ€™s\n",
      " cryptographic handshake with the more recent TLS 1.3 [55, 63].\n",
      " This paper describes pre-IETF QUIC design and deployment. While\n",
      " details of the protocol will change through IETF deliberation, we\n",
      " expect its core design and performance to remain unchanged.\n",
      " In this paper, we often interleave our discussions of the protocol,\n",
      " its use in the HTTPS stack, and its implementation. These three are\n",
      " deeply intertwined in our experience. The paper attempts to reflect\n",
      " this connectedness without losing clarity.\n",
      " 2 MOTIVATION:WHYQUIC?\n",
      " Growth in latency-sensitive web services and use of the web as a plat\n",
      "form for applications is placing unprecedented demands on reducing\n",
      " web latency. Web latency remains an impediment to improving user\n",
      "experience [21, 25], and tail latency remains a hurdle to scaling the\n",
      " web platform [15]. At the same time, the Internet is rapidly shifting\n",
      " from insecure to secure traffic, which adds delays. As an example\n",
      " of a general trend, Figure 3 shows how secure web traffic to Google\n",
      " has increased dramatically over a short period of time as services\n",
      " have embraced HTTPS. Efforts to reduce latency in the underlying\n",
      " transport mechanisms commonly run into the following fundamental\n",
      " limitations of the TLS/TCP ecosystem.\n",
      " Protocol Entrenchment: While new transport protocols have been\n",
      " specified to meet evolving application demands beyond TCPâ€™s sim\n",
      "ple service [40, 62], they have not seen wide deployment [49, 52, 58].\n",
      " Middleboxes have accidentally become key control points in the In\n",
      "ternetâ€™s architecture: firewalls tend to block anything unfamiliar for\n",
      " security reasons and Network Address Translators (NATs) rewrite\n",
      " the transport header, making both incapable of allowing traffic from\n",
      " new transports without adding explicit support for them. Any packet\n",
      " content not protected by end-to-end security, such as the TCP packet\n",
      " header, has become fair game for middleboxes to inspect and mod\n",
      "ify. As a result, even modifying TCP remains challenging due to\n",
      " its ossification by middleboxes [29, 49, 54]. Deploying changes to\n",
      " TCP has reached a point of diminishing returns, where simple pro\n",
      "tocol changes are now expected to take upwards of a decade to see\n",
      " significant deployment (see Section 8).\n",
      " ImplementationEntrenchment:AstheInternetcontinuestoevolve\n",
      " and as attacks on various parts of the infrastructure (including the\n",
      " transport) remain a threat, there is a need to be able to deploy changes\n",
      " to clients rapidly. TCP is commonly implemented in the Operat\n",
      "ing System (OS) kernel. As a result, even if TCP modifications\n",
      " were deployable, pushing changes to TCP stacks typically requires\n",
      " OSupgrades. This coupling of the transport implementation to the\n",
      " OSlimits deployment velocity of TCP changes; OS upgrades have\n",
      " system-wide impact and the upgrade pipelines and mechanisms are\n",
      " appropriately cautious [28]. Even with increasing mobile OS popula\n",
      "tions that have more rapid upgrade cycles, sizeable user populations\n",
      " often end up several years behind. OS upgrades at servers tend to\n",
      " be faster by an order of magnitude but can still take many months\n",
      " because of appropriately rigorous stability and performance testing\n",
      " of the entire OS. This limits the deployment and iteration velocity\n",
      " of even simple networking changes.\n",
      " Handshake Delay: The generality of TCP and TLS continues to\n",
      " serve Internet evolution well, but the costs of layering have become\n",
      " increasingly visible with increasing latency demands on the HTTPS\n",
      " stack. TCP connections commonly incur at least one round-trip delay\n",
      " of connection setup time before any application data can be sent,\n",
      " and TLS adds two round trips to this delay2. While network band\n",
      "width has increased over time, the speed of light remains constant.\n",
      " Most connections on the Internet, and certainly most transactions on\n",
      " the web, are short transfers and are most impacted by unnecessary\n",
      " handshake round trips.\n",
      " Head-of-line Blocking Delay: Toreducelatency and overhead costs\n",
      " of using multiple TCP connections, HTTP/1.1 recommends limiting\n",
      " the number of connections initiated by a client to any server [19].\n",
      " To reduce transaction latency further, HTTP/2 multiplexes multi\n",
      "ple objects and recommends using a single TCP connection to any\n",
      " server [8]. TCPâ€™s bytestream abstraction, however, prevents applica\n",
      "tions from controlling the framing of their communications [12] and\n",
      " imposes a \"latency tax\" on application frames whose delivery must\n",
      " wait for retransmissions of previously lost TCP segments.\n",
      " In general, the deployment of transport modifications for the\n",
      " web requires changes to web servers and clients, to the transport\n",
      " stack in server and/or client OSes, and often to intervening mid\n",
      "dleboxes. Deploying changes to all three components requires in\n",
      "centivizing and coordinating between application developers, OS\n",
      " vendors, middlebox vendors, and the network operators that deploy\n",
      " these middleboxes. QUIC encrypts transport headers and builds\n",
      " transport functions atop UDP, avoiding dependence on vendors and\n",
      " network operators and moving control of transport deployment to\n",
      " the applications that directly benefit from them.\n"
     ]
    }
   ],
   "source": [
    "with open('quic.txt', 'r') as file:\n",
    "    contents = file.read()\n",
    "    print(contents)"
   ]
  },
  {
   "cell_type": "code",
   "execution_count": 4,
   "metadata": {},
   "outputs": [
    {
     "name": "stdout",
     "output_type": "stream",
     "text": [
      "1\n"
     ]
    }
   ],
   "source": [
    "loader = TextLoader('quic.txt')\n",
    "documents = loader.load()\n",
    "text_splitter = CharacterTextSplitter(chunk_size=1000, chunk_overlap=0)\n",
    "texts = text_splitter.split_documents(documents)\n",
    "print(len(texts))"
   ]
  },
  {
   "cell_type": "code",
   "execution_count": 5,
   "metadata": {},
   "outputs": [
    {
     "name": "stdout",
     "output_type": "stream",
     "text": [
      "document ingested\n"
     ]
    }
   ],
   "source": [
    "embeddings = HuggingFaceEmbeddings()\n",
    "docsearch = Chroma.from_documents(texts, embeddings) \n",
    "print('document ingested')"
   ]
  },
  {
   "cell_type": "code",
   "execution_count": 6,
   "metadata": {},
   "outputs": [],
   "source": [
    "model_id = 'google/flan-ul2'"
   ]
  },
  {
   "cell_type": "code",
   "execution_count": 7,
   "metadata": {},
   "outputs": [],
   "source": [
    "parameters = {\n",
    "    GenParams.DECODING_METHOD: DecodingMethods.GREEDY.value, \n",
    "    GenParams.MIN_NEW_TOKENS: 130,\n",
    "    GenParams.MAX_NEW_TOKENS: 256,\n",
    "    GenParams.TEMPERATURE: 0.5\n",
    "}"
   ]
  },
  {
   "cell_type": "code",
   "execution_count": 8,
   "metadata": {},
   "outputs": [],
   "source": [
    "credentials = {\n",
    "    \"url\": \"https://eu-de.ml.cloud.ibm.com\",\n",
    "    'apikey' : 'Vtk9c-KPQxzapFT_fLrse5f7t9HaNESzF97gZmljbxPV'\n",
    "}\n",
    "\n",
    "project_id = \"17111b65-9bf6-4407-a730-7c9be6a08a61\""
   ]
  },
  {
   "cell_type": "code",
   "execution_count": 9,
   "metadata": {},
   "outputs": [],
   "source": [
    "model = Model(\n",
    "    model_id=model_id,\n",
    "    params=parameters,\n",
    "    credentials=credentials,\n",
    "    project_id=project_id\n",
    ")"
   ]
  },
  {
   "cell_type": "code",
   "execution_count": 10,
   "metadata": {},
   "outputs": [],
   "source": [
    "flan_ul2_llm = WatsonxLLM(model=model)"
   ]
  },
  {
   "cell_type": "code",
   "execution_count": 11,
   "metadata": {},
   "outputs": [
    {
     "name": "stderr",
     "output_type": "stream",
     "text": [
      "Number of requested results 5 is greater than number of elements in index 1, updating n_results = 1\n"
     ]
    },
    {
     "name": "stdout",
     "output_type": "stream",
     "text": [
      "a new transport designed from the ground up to improve performance for HTTPS traffic and to enable rapid de ployment and continued evolution of transport mechanisms. QUIC replaces most of the traditional HTTPS stack: HTTP/2, TLS, and TCP (Figure 1). We developed QUIC as a user-space transport with UDP as a substrate. Building QUIC in user-space facilitated its deployment as part of various applications and enabled iterative changes to occur at application update timescales. The use of UDP allows QUIC packets to traverse middleboxes. QUIC is an encrypted transport: packets are authenticated and encrypted, preventing mod ification and limiting ossification of the protocol by middleboxes.\n"
     ]
    }
   ],
   "source": [
    "retriever = docsearch.as_retriever(search_type=\"similarity\", search_kwargs={\"k\": 5})\n",
    "\n",
    "# Create the RetrievalQA instance\n",
    "qa = RetrievalQA.from_chain_type(\n",
    "    llm=flan_ul2_llm,\n",
    "    chain_type=\"stuff\",\n",
    "    retriever=retriever,\n",
    "    return_source_documents=False\n",
    ")\n",
    "\n",
    "# Execute the query\n",
    "query = \"what is quic?\"\n",
    "response = qa.run(query)\n",
    "\n",
    "# Print the result\n",
    "print(response)"
   ]
  },
  {
   "cell_type": "code",
   "execution_count": 12,
   "metadata": {},
   "outputs": [
    {
     "name": "stderr",
     "output_type": "stream",
     "text": [
      "Number of requested results 4 is greater than number of elements in index 1, updating n_results = 1\n"
     ]
    },
    {
     "data": {
      "text/plain": [
       "{'query': 'Can you summarize the document for me?',\n",
       " 'result': 'QUIC is a new transport designed from the ground up to improve performance for HTTPS traffic and to enable rapid de ployment and continued evolution of transport mechanisms. QUIC replaces most of the traditional HTTPS stack: HTTP/2, TLS, and TCP (Figure 1). We developed QUIC as a user-space transport with UDP as a substrate. Building QUIC in user-space facilitated its deployment as part of various applications and enabled iterative changes to occur at application update timescales. The use of UDP allows QUIC packets to traverse middleboxes. QUIC is an encrypted transport: packets are authenticated and encrypted, preventing mod ification and limiting ossification of the protocol by middleboxes. QUIC uses a cryptographic handshake that minimizes handshake latency for most connections by using known server credentials on repeat connections and by removing redundant handshake-overhead at multiple layers in the network stack. QUIC eliminates head-of-line blocking delays by using a lightweight data-structuring abstraction, streams, which are multiplexed within a single connection so that loss'}"
      ]
     },
     "execution_count": 12,
     "metadata": {},
     "output_type": "execute_result"
    }
   ],
   "source": [
    "qa = RetrievalQA.from_chain_type(llm=flan_ul2_llm, \n",
    "                                 chain_type=\"stuff\", \n",
    "                                 retriever=docsearch.as_retriever(), \n",
    "                                 return_source_documents=False)\n",
    "query = \"Can you summarize the document for me?\"\n",
    "qa.invoke(query)"
   ]
  },
  {
   "cell_type": "code",
   "execution_count": 13,
   "metadata": {},
   "outputs": [],
   "source": [
    "model_id = 'meta-llama/llama-3-70b-instruct'\n",
    "\n",
    "parameters = {\n",
    "    GenParams.DECODING_METHOD: DecodingMethods.GREEDY,  \n",
    "    GenParams.MAX_NEW_TOKENS: 256,  # this controls the maximum number of tokens in the generated output\n",
    "    GenParams.TEMPERATURE: 0.5 # this randomness or creativity of the model's responses\n",
    "}\n",
    "\n",
    "credentials = {\n",
    "    \"url\": \"https://eu-de.ml.cloud.ibm.com\",\n",
    "    'apikey' : '' #put api key here\n",
    "}\n",
    "\n",
    "project_id = \"\" # put project-id  here\n",
    "\n",
    "model = Model(\n",
    "    model_id=model_id,\n",
    "    params=parameters,\n",
    "    credentials=credentials,\n",
    "    project_id=project_id\n",
    ")\n",
    "\n",
    "llama_3_llm = WatsonxLLM(model=model)"
   ]
  },
  {
   "cell_type": "code",
   "execution_count": 14,
   "metadata": {},
   "outputs": [
    {
     "name": "stderr",
     "output_type": "stream",
     "text": [
      "Number of requested results 4 is greater than number of elements in index 1, updating n_results = 1\n"
     ]
    },
    {
     "data": {
      "text/plain": [
       "{'query': 'Can you summarize the document for me?',\n",
       " 'result': \" The document is about QUIC, a new transport protocol designed to improve performance for HTTPS traffic. It was developed by Google and has been globally deployed on thousands of servers, serving 7% of Internet traffic. QUIC replaces traditional HTTPS stack components like HTTP/2, TLS, and TCP, and is designed to reduce latency and improve performance. The document discusses the motivations behind QUIC's development, its design principles, and the experience of deploying it globally. It also shares lessons learned about transport design and the Internet ecosystem.\"}"
      ]
     },
     "execution_count": 14,
     "metadata": {},
     "output_type": "execute_result"
    }
   ],
   "source": [
    "qa = RetrievalQA.from_chain_type(llm=llama_3_llm, \n",
    "                                 chain_type=\"stuff\", \n",
    "                                 retriever=docsearch.as_retriever(), \n",
    "                                 return_source_documents=False)\n",
    "query = \"Can you summarize the document for me?\"\n",
    "qa.invoke(query)"
   ]
  },
  {
   "cell_type": "code",
   "execution_count": 15,
   "metadata": {},
   "outputs": [
    {
     "name": "stderr",
     "output_type": "stream",
     "text": [
      "Number of requested results 4 is greater than number of elements in index 1, updating n_results = 1\n"
     ]
    },
    {
     "data": {
      "text/plain": [
       "{'query': 'why quic protocol is neccesary',\n",
       " 'result': 'QUIC encrypts transport headers and builds transport functions atop UDP, avoiding dependence on vendors and network operators and moving control of transport deployment to the applications that directly benefit from them. QUIC re duces latency of Google Search responses by 8.0% for desktop users and by 3.6% for mobile users, and reduces rebuffer rates of YouTube playbacks by 18.0% for desktop users and 15.3% for mobile users1. As shown in Figure 2, QUIC is widely deployed: it currently ac counts for over 30% of Googleâ€TMs total egress traffic in bytes and consequently an estimated 7% of global Internet traffic [61].'}"
      ]
     },
     "execution_count": 15,
     "metadata": {},
     "output_type": "execute_result"
    }
   ],
   "source": [
    "qa = RetrievalQA.from_chain_type(llm=flan_ul2_llm, \n",
    "                                 chain_type=\"stuff\", \n",
    "                                 retriever=docsearch.as_retriever(), \n",
    "                                 return_source_documents=False)\n",
    "query = \"why quic protocol is neccesary\"\n",
    "qa.invoke(query)"
   ]
  },
  {
   "cell_type": "code",
   "execution_count": 16,
   "metadata": {},
   "outputs": [],
   "source": [
    "prompt_template = \"\"\"Use the information from the document to answer the question at the end. If you don't know the answer, just say that you don't know, definately do not try to make up an answer.\n",
    "\n",
    "{context}\n",
    "\n",
    "Question: {question}\n",
    "\"\"\"\n",
    "\n",
    "PROMPT = PromptTemplate(\n",
    "    template=prompt_template, input_variables=[\"context\", \"question\"]\n",
    ")\n",
    "\n",
    "chain_type_kwargs = {\"prompt\": PROMPT}"
   ]
  },
  {
   "cell_type": "code",
   "execution_count": 17,
   "metadata": {},
   "outputs": [
    {
     "name": "stderr",
     "output_type": "stream",
     "text": [
      "Number of requested results 4 is greater than number of elements in index 1, updating n_results = 1\n"
     ]
    },
    {
     "data": {
      "text/plain": [
       "{'query': 'what is head of line blocking',\n",
       " 'result': 'Answer: Head-of-line blocking delay is a delay caused by TCP\\'s bytestream abstraction, which prevents applications from controlling the framing of their communications and imposes a \"latency tax\" on application frames whose delivery must wait for retransmissions of previously lost TCP segments.'}"
      ]
     },
     "execution_count": 17,
     "metadata": {},
     "output_type": "execute_result"
    }
   ],
   "source": [
    "qa = RetrievalQA.from_chain_type(llm=llama_3_llm, \n",
    "                                 chain_type=\"stuff\", \n",
    "                                 retriever=docsearch.as_retriever(), \n",
    "                                 chain_type_kwargs=chain_type_kwargs, \n",
    "                                 return_source_documents=False)\n",
    "\n",
    "query = \"what is head of line blocking\"\n",
    "qa.invoke(query)"
   ]
  },
  {
   "cell_type": "code",
   "execution_count": 18,
   "metadata": {},
   "outputs": [],
   "source": [
    "memory = ConversationBufferMemory(memory_key = \"chat_history\", return_message = True)"
   ]
  },
  {
   "cell_type": "code",
   "execution_count": 19,
   "metadata": {},
   "outputs": [],
   "source": [
    "qa = ConversationalRetrievalChain.from_llm(llm=llama_3_llm, \n",
    "                                           chain_type=\"stuff\", \n",
    "                                           retriever=docsearch.as_retriever(), \n",
    "                                           memory = memory, \n",
    "                                           get_chat_history=lambda h : h, \n",
    "                                           return_source_documents=False)"
   ]
  },
  {
   "cell_type": "code",
   "execution_count": 20,
   "metadata": {},
   "outputs": [],
   "source": [
    "history = []"
   ]
  },
  {
   "cell_type": "code",
   "execution_count": 21,
   "metadata": {},
   "outputs": [
    {
     "name": "stderr",
     "output_type": "stream",
     "text": [
      "Number of requested results 4 is greater than number of elements in index 1, updating n_results = 1\n"
     ]
    },
    {
     "name": "stdout",
     "output_type": "stream",
     "text": [
      " QUIC is an encrypted, multiplexed, and low-latency transport protocol designed to improve transport performance for HTTPS traffic and to enable rapid deployment and continued evolution of transport mechanisms.\n"
     ]
    }
   ],
   "source": [
    "query = \"What is quic?\"\n",
    "result = qa.invoke({\"question\":query}, {\"chat_history\": history})\n",
    "print(result[\"answer\"])"
   ]
  },
  {
   "cell_type": "code",
   "execution_count": 22,
   "metadata": {},
   "outputs": [],
   "source": [
    "history.append((query, result[\"answer\"]))"
   ]
  },
  {
   "cell_type": "code",
   "execution_count": 23,
   "metadata": {},
   "outputs": [
    {
     "name": "stderr",
     "output_type": "stream",
     "text": [
      "Number of requested results 4 is greater than number of elements in index 1, updating n_results = 1\n"
     ]
    },
    {
     "name": "stdout",
     "output_type": "stream",
     "text": [
      " The key features of QUIC are:\n",
      "\n",
      "1. Encrypted transport: QUIC packets are authenticated and encrypted, preventing modification and limiting ossification of the protocol by middleboxes.\n",
      "2. Multiplexed: QUIC uses a lightweight data-structuring abstraction, streams, which are multiplexed within a single connection so that loss of a single packet blocks only streams with data in that packet.\n",
      "3. Low-latency: QUIC uses a cryptographic handshake that minimizes handshake latency for most connections by using known server credentials on repeat connections and by removing redundant handshake-overhead at multiple layers in the network stack.\n",
      "4. User-space transport: QUIC is built in user-space, facilitating its deployment as part of various applications and enabling iterative changes to occur at application update timescales.\n",
      "5. UDP-based: QUIC uses UDP as a substrate, allowing QUIC packets to traverse middleboxes.\n"
     ]
    }
   ],
   "source": [
    "query = \"List points in it?\"\n",
    "result = qa({\"question\": query}, {\"chat_history\": history})\n",
    "print(result[\"answer\"])"
   ]
  },
  {
   "cell_type": "code",
   "execution_count": 24,
   "metadata": {},
   "outputs": [],
   "source": [
    "history.append((query, result[\"answer\"]))"
   ]
  },
  {
   "cell_type": "code",
   "execution_count": 25,
   "metadata": {},
   "outputs": [
    {
     "name": "stderr",
     "output_type": "stream",
     "text": [
      "Number of requested results 4 is greater than number of elements in index 1, updating n_results = 1\n"
     ]
    },
    {
     "name": "stdout",
     "output_type": "stream",
     "text": [
      " QUIC is designed to improve transport performance for HTTPS traffic and to enable rapid deployment and continued evolution of transport mechanisms.\n"
     ]
    }
   ],
   "source": [
    "query = \"What is the aim of it?\"\n",
    "result = qa({\"question\": query}, {\"chat_history\": history})\n",
    "print(result[\"answer\"])"
   ]
  },
  {
   "cell_type": "code",
   "execution_count": 26,
   "metadata": {},
   "outputs": [],
   "source": [
    "def qa():\n",
    "    memory = ConversationBufferMemory(memory_key = \"chat_history\", return_message = True)\n",
    "    qa = ConversationalRetrievalChain.from_llm(llm=llama_3_llm, \n",
    "                                               chain_type=\"stuff\", \n",
    "                                               retriever=docsearch.as_retriever(), \n",
    "                                               memory = memory, \n",
    "                                               get_chat_history=lambda h : h, \n",
    "                                               return_source_documents=False)\n",
    "    history = []\n",
    "    while True:\n",
    "        query = input(\"Question: \")\n",
    "        \n",
    "        if query.lower() in [\"quit\",\"exit\",\"bye\"]:\n",
    "            print(\"Answer: Goodbye!\")\n",
    "            break\n",
    "            \n",
    "        result = qa({\"question\": query}, {\"chat_history\": history})\n",
    "        \n",
    "        history.append((query, result[\"answer\"]))\n",
    "        \n",
    "        print(\"Answer: \", result[\"answer\"])"
   ]
  },
  {
   "cell_type": "code",
   "execution_count": 27,
   "metadata": {},
   "outputs": [
    {
     "name": "stdin",
     "output_type": "stream",
     "text": [
      "Question:  what are benefits of quic?\n"
     ]
    },
    {
     "name": "stderr",
     "output_type": "stream",
     "text": [
      "Number of requested results 4 is greater than number of elements in index 1, updating n_results = 1\n"
     ]
    },
    {
     "name": "stdout",
     "output_type": "stream",
     "text": [
      "Answer:   QUIC reduces latency of Google Search responses by 8.0% for desktop users and by 3.6% for mobile users, and reduces rebuffer rates of YouTube playbacks by 18.0% for desktop users and 15.3% for mobile users.\n"
     ]
    },
    {
     "name": "stdin",
     "output_type": "stream",
     "text": [
      "Question:  quit\n"
     ]
    },
    {
     "name": "stdout",
     "output_type": "stream",
     "text": [
      "Answer: Goodbye!\n"
     ]
    }
   ],
   "source": [
    "qa()"
   ]
  },
  {
   "cell_type": "code",
   "execution_count": null,
   "metadata": {},
   "outputs": [],
   "source": []
  }
 ],
 "metadata": {
  "kernelspec": {
   "display_name": "Python 3 (ipykernel)",
   "language": "python",
   "name": "python3"
  },
  "language_info": {
   "codemirror_mode": {
    "name": "ipython",
    "version": 3
   },
   "file_extension": ".py",
   "mimetype": "text/x-python",
   "name": "python",
   "nbconvert_exporter": "python",
   "pygments_lexer": "ipython3",
   "version": "3.10.9"
  },
  "prev_pub_hash": "ffcf402594dd9eaab822db41f059999736cbe822429c87fd015ecefca3d9300a"
 },
 "nbformat": 4,
 "nbformat_minor": 4
}
